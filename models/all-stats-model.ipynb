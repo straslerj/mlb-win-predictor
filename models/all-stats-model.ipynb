{
 "cells": [
  {
   "cell_type": "code",
   "execution_count": 48,
   "metadata": {},
   "outputs": [],
   "source": [
    "import boto3\n",
    "import datetime\n",
    "import os\n",
    "import pandas as pd\n",
    "import psycopg2\n",
    "import matplotlib.pyplot as plt\n",
    "import pickle\n",
    "import seaborn as sns\n",
    "import shutil\n",
    "import tempfile\n",
    "\n",
    "from sklearn.metrics import confusion_matrix\n",
    "from sklearn.model_selection import train_test_split\n",
    "import pandas as pd\n",
    "from sklearn.linear_model import LogisticRegression\n",
    "\n",
    "import warnings\n",
    "warnings.filterwarnings('ignore')"
   ]
  },
  {
   "cell_type": "code",
   "execution_count": 49,
   "metadata": {},
   "outputs": [],
   "source": [
    "aws_psql_conn = psycopg2.connect(\n",
    "    database=os.getenv(\"AWS_PSQL_DB\"),\n",
    "    user=os.getenv(\"AWS_PSQL_USER\"),\n",
    "    password=os.getenv(\"AWS_PSQL_PASSWORD\"),\n",
    "    host=os.getenv(\"AWS_PSQL_HOST\"),\n",
    "    port=os.getenv(\"AWS_PSQL_PORT\"),\n",
    ")\n",
    "\n",
    "cursor = aws_psql_conn.cursor()"
   ]
  },
  {
   "cell_type": "code",
   "execution_count": 50,
   "metadata": {},
   "outputs": [],
   "source": [
    "sql = f\"select * from games\"\n",
    "\n",
    "cursor.execute(sql)\n",
    "\n",
    "rows = cursor.fetchall()\n",
    "\n",
    "column_names = [desc[0] for desc in cursor.description]"
   ]
  },
  {
   "cell_type": "code",
   "execution_count": 51,
   "metadata": {},
   "outputs": [
    {
     "name": "stdout",
     "output_type": "stream",
     "text": [
      "<bound method NDFrame.head of      game_id  home_team_id        home_team_name  away_team_id  \\\n",
      "0     718780           120  Washington Nationals           144   \n",
      "1     718781           147      New York Yankees           137   \n",
      "2     718782           111        Boston Red Sox           110   \n",
      "3     718777           112          Chicago Cubs           158   \n",
      "4     718776           139        Tampa Bay Rays           116   \n",
      "..       ...           ...                   ...           ...   \n",
      "794   717894           140         Texas Rangers           136   \n",
      "795   717890           137  San Francisco Giants           110   \n",
      "796   717892           109  Arizona Diamondbacks           144   \n",
      "797   717889           135      San Diego Padres           112   \n",
      "798   717888           119   Los Angeles Dodgers           147   \n",
      "\n",
      "           away_team_name        home_pitcher  home_pitcher_id  \\\n",
      "0          Atlanta Braves      Patrick Corbin         571578.0   \n",
      "1    San Francisco Giants         Gerrit Cole         543037.0   \n",
      "2       Baltimore Orioles        Corey Kluber         446372.0   \n",
      "3       Milwaukee Brewers      Marcus Stroman         573186.0   \n",
      "4          Detroit Tigers    Shane McClanahan         663556.0   \n",
      "..                    ...                 ...              ...   \n",
      "794      Seattle Mariners      Nathan Eovaldi         543135.0   \n",
      "795     Baltimore Orioles  Anthony DeSclafani         543101.0   \n",
      "796        Atlanta Braves          Zac Gallen         668678.0   \n",
      "797          Chicago Cubs       Ryan Weathers         677960.0   \n",
      "798      New York Yankees        Bobby Miller         676272.0   \n",
      "\n",
      "     home_pitcher_era  home_pitcher_win_percentage  home_pitcher_wins  ...  \\\n",
      "0                 NaN                          NaN                NaN  ...   \n",
      "1                 NaN                          NaN                NaN  ...   \n",
      "2                 NaN                          NaN                NaN  ...   \n",
      "3                 NaN                          NaN                NaN  ...   \n",
      "4                 NaN                          NaN                NaN  ...   \n",
      "..                ...                          ...                ...  ...   \n",
      "794              2.42                        0.778                7.0  ...   \n",
      "795              3.48                        0.500                4.0  ...   \n",
      "796              2.72                        0.778                7.0  ...   \n",
      "797              4.28                        0.250                1.0  ...   \n",
      "798              1.64                        1.000                2.0  ...   \n",
      "\n",
      "     home_pitcher_k_nine  home_pitcher_bb_nine home_pitcher_k_bb_diff  \\\n",
      "0                    NaN                   NaN                    NaN   \n",
      "1                    NaN                   NaN                    NaN   \n",
      "2                    NaN                   NaN                    NaN   \n",
      "3                    NaN                   NaN                    NaN   \n",
      "4                    NaN                   NaN                    NaN   \n",
      "..                   ...                   ...                    ...   \n",
      "794                 8.48                  1.70               0.196491   \n",
      "795                 6.55                  1.20               0.147059   \n",
      "796                10.16                  1.98               0.228374   \n",
      "797                 5.88                  3.74               0.057554   \n",
      "798                 7.36                  1.64               0.166667   \n",
      "\n",
      "     home_pitcher_whip  home_pitcher_babip  away_pitcher_k_nine  \\\n",
      "0                  NaN                 NaN                  NaN   \n",
      "1                  NaN                 NaN                  NaN   \n",
      "2                  NaN                 NaN                  NaN   \n",
      "3                  NaN                 NaN                  NaN   \n",
      "4                  NaN                 NaN                  NaN   \n",
      "..                 ...                 ...                  ...   \n",
      "794               1.00            0.290816                 7.75   \n",
      "795               1.05            0.272277                 8.71   \n",
      "796               1.03            0.303191                 4.50   \n",
      "797               1.37            0.292929                 7.64   \n",
      "798               0.91            0.258065                 8.78   \n",
      "\n",
      "     away_pitcher_bb_nine  away_pitcher_k_bb_diff  away_pitcher_whip  \\\n",
      "0                     NaN                     NaN                NaN   \n",
      "1                     NaN                     NaN                NaN   \n",
      "2                     NaN                     NaN                NaN   \n",
      "3                     NaN                     NaN                NaN   \n",
      "4                     NaN                     NaN                NaN   \n",
      "..                    ...                     ...                ...   \n",
      "794                  0.75                0.207407               0.75   \n",
      "795                  1.71                0.203320               0.83   \n",
      "796                  3.00                0.038462               1.17   \n",
      "797                  2.96                0.134276               0.99   \n",
      "798                  2.98                0.161290               0.98   \n",
      "\n",
      "     away_pitcher_babip  \n",
      "0                   NaN  \n",
      "1                   NaN  \n",
      "2                   NaN  \n",
      "3                   NaN  \n",
      "4                   NaN  \n",
      "..                  ...  \n",
      "794            0.226804  \n",
      "795            0.175325  \n",
      "796            0.222222  \n",
      "797            0.226316  \n",
      "798            0.200000  \n",
      "\n",
      "[799 rows x 30 columns]>\n"
     ]
    }
   ],
   "source": [
    "df = pd.DataFrame(rows, columns=column_names)\n",
    "\n",
    "print(df.head)"
   ]
  },
  {
   "cell_type": "code",
   "execution_count": 52,
   "metadata": {},
   "outputs": [
    {
     "name": "stdout",
     "output_type": "stream",
     "text": [
      "<bound method NDFrame.head of      game_id  home_team_id  away_team_id  home_pitcher_era  \\\n",
      "0     718780           120           144               NaN   \n",
      "1     718781           147           137               NaN   \n",
      "2     718782           111           110               NaN   \n",
      "3     718777           112           158               NaN   \n",
      "4     718776           139           116               NaN   \n",
      "..       ...           ...           ...               ...   \n",
      "794   717894           140           136              2.42   \n",
      "795   717890           137           110              3.48   \n",
      "796   717892           109           144              2.72   \n",
      "797   717889           135           112              4.28   \n",
      "798   717888           119           147              1.64   \n",
      "\n",
      "     home_pitcher_win_percentage  home_pitcher_wins  home_pitcher_losses  \\\n",
      "0                            NaN                NaN                  NaN   \n",
      "1                            NaN                NaN                  NaN   \n",
      "2                            NaN                NaN                  NaN   \n",
      "3                            NaN                NaN                  NaN   \n",
      "4                            NaN                NaN                  NaN   \n",
      "..                           ...                ...                  ...   \n",
      "794                        0.778                7.0                  2.0   \n",
      "795                        0.500                4.0                  4.0   \n",
      "796                        0.778                7.0                  2.0   \n",
      "797                        0.250                1.0                  3.0   \n",
      "798                        1.000                2.0                  0.0   \n",
      "\n",
      "     home_pitcher_innings_pitched  away_pitcher_era  \\\n",
      "0                             NaN               NaN   \n",
      "1                             NaN               NaN   \n",
      "2                             NaN               NaN   \n",
      "3                             NaN               NaN   \n",
      "4                             NaN               NaN   \n",
      "..                            ...               ...   \n",
      "794                          74.3              3.00   \n",
      "795                          67.3              3.29   \n",
      "796                          72.6              6.00   \n",
      "797                          33.6              2.59   \n",
      "798                          11.0              3.98   \n",
      "\n",
      "     away_pitcher_win_percentage  ...  home_pitcher_k_nine  \\\n",
      "0                            NaN  ...                  NaN   \n",
      "1                            NaN  ...                  NaN   \n",
      "2                            NaN  ...                  NaN   \n",
      "3                            NaN  ...                  NaN   \n",
      "4                            NaN  ...                  NaN   \n",
      "..                           ...  ...                  ...   \n",
      "794                        0.600  ...                 8.48   \n",
      "795                        0.600  ...                 6.55   \n",
      "796                        0.000  ...                10.16   \n",
      "797                        0.556  ...                 5.88   \n",
      "798                        0.500  ...                 7.36   \n",
      "\n",
      "     home_pitcher_bb_nine  home_pitcher_k_bb_diff  home_pitcher_whip  \\\n",
      "0                     NaN                     NaN                NaN   \n",
      "1                     NaN                     NaN                NaN   \n",
      "2                     NaN                     NaN                NaN   \n",
      "3                     NaN                     NaN                NaN   \n",
      "4                     NaN                     NaN                NaN   \n",
      "..                    ...                     ...                ...   \n",
      "794                  1.70                0.196491               1.00   \n",
      "795                  1.20                0.147059               1.05   \n",
      "796                  1.98                0.228374               1.03   \n",
      "797                  3.74                0.057554               1.37   \n",
      "798                  1.64                0.166667               0.91   \n",
      "\n",
      "     home_pitcher_babip  away_pitcher_k_nine  away_pitcher_bb_nine  \\\n",
      "0                   NaN                  NaN                   NaN   \n",
      "1                   NaN                  NaN                   NaN   \n",
      "2                   NaN                  NaN                   NaN   \n",
      "3                   NaN                  NaN                   NaN   \n",
      "4                   NaN                  NaN                   NaN   \n",
      "..                  ...                  ...                   ...   \n",
      "794            0.290816                 7.75                  0.75   \n",
      "795            0.272277                 8.71                  1.71   \n",
      "796            0.303191                 4.50                  3.00   \n",
      "797            0.292929                 7.64                  2.96   \n",
      "798            0.258065                 8.78                  2.98   \n",
      "\n",
      "     away_pitcher_k_bb_diff  away_pitcher_whip  away_pitcher_babip  \n",
      "0                       NaN                NaN                 NaN  \n",
      "1                       NaN                NaN                 NaN  \n",
      "2                       NaN                NaN                 NaN  \n",
      "3                       NaN                NaN                 NaN  \n",
      "4                       NaN                NaN                 NaN  \n",
      "..                      ...                ...                 ...  \n",
      "794                0.207407               0.75            0.226804  \n",
      "795                0.203320               0.83            0.175325  \n",
      "796                0.038462               1.17            0.222222  \n",
      "797                0.134276               0.99            0.226316  \n",
      "798                0.161290               0.98            0.200000  \n",
      "\n",
      "[799 rows x 24 columns]>\n"
     ]
    }
   ],
   "source": [
    "columns_to_remove = [\n",
    "    \"home_team_name\",\n",
    "    \"away_team_name\",\n",
    "    \"home_pitcher\",\n",
    "    \"home_pitcher_id\",\n",
    "    \"away_pitcher\",\n",
    "    \"away_pitcher_id\",\n",
    "]\n",
    "\n",
    "df = df.drop(columns=columns_to_remove)\n",
    "\n",
    "print(df.head)"
   ]
  },
  {
   "cell_type": "code",
   "execution_count": 53,
   "metadata": {},
   "outputs": [
    {
     "name": "stdout",
     "output_type": "stream",
     "text": [
      "<bound method NDFrame.head of      game_id  home_team_id  away_team_id  home_pitcher_era  \\\n",
      "78    718703           119           115              3.00   \n",
      "79    718704           120           139              6.00   \n",
      "81    718701           146           142              0.00   \n",
      "84    718698           158           121              7.20   \n",
      "91    718434           113           140              6.00   \n",
      "..       ...           ...           ...               ...   \n",
      "794   717894           140           136              2.42   \n",
      "795   717890           137           110              3.48   \n",
      "796   717892           109           144              2.72   \n",
      "797   717889           135           112              4.28   \n",
      "798   717888           119           147              1.64   \n",
      "\n",
      "     home_pitcher_win_percentage  home_pitcher_wins  home_pitcher_losses  \\\n",
      "78                         1.000                1.0                  0.0   \n",
      "79                         0.000                0.0                  1.0   \n",
      "81                         1.000                1.0                  0.0   \n",
      "84                         0.000                0.0                  1.0   \n",
      "91                         0.000                0.0                  1.0   \n",
      "..                           ...                ...                  ...   \n",
      "794                        0.778                7.0                  2.0   \n",
      "795                        0.500                4.0                  4.0   \n",
      "796                        0.778                7.0                  2.0   \n",
      "797                        0.250                1.0                  3.0   \n",
      "798                        1.000                2.0                  0.0   \n",
      "\n",
      "     home_pitcher_innings_pitched  away_pitcher_era  \\\n",
      "78                            6.0              3.00   \n",
      "79                            3.0              0.00   \n",
      "81                            5.6              0.00   \n",
      "84                            5.0              1.80   \n",
      "91                            6.0              3.38   \n",
      "..                            ...               ...   \n",
      "794                          74.3              3.00   \n",
      "795                          67.3              3.29   \n",
      "796                          72.6              6.00   \n",
      "797                          33.6              2.59   \n",
      "798                          11.0              3.98   \n",
      "\n",
      "     away_pitcher_win_percentage  ...  home_pitcher_k_nine  \\\n",
      "78                         1.000  ...                 9.00   \n",
      "79                         1.000  ...                 9.00   \n",
      "81                         1.000  ...                 7.94   \n",
      "84                         0.000  ...                 5.40   \n",
      "91                         0.750  ...                12.00   \n",
      "..                           ...  ...                  ...   \n",
      "794                        0.600  ...                 8.48   \n",
      "795                        0.600  ...                 6.55   \n",
      "796                        0.000  ...                10.16   \n",
      "797                        0.556  ...                 5.88   \n",
      "798                        0.500  ...                 7.36   \n",
      "\n",
      "     home_pitcher_bb_nine  home_pitcher_k_bb_diff  home_pitcher_whip  \\\n",
      "78                   0.00                0.285714               0.67   \n",
      "79                   9.00                0.000000               3.33   \n",
      "81                   6.35                0.047619               1.06   \n",
      "84                   5.40                0.000000               1.40   \n",
      "91                   3.00                0.260870               1.00   \n",
      "..                    ...                     ...                ...   \n",
      "794                  1.70                0.196491               1.00   \n",
      "795                  1.20                0.147059               1.05   \n",
      "796                  1.98                0.228374               1.03   \n",
      "797                  3.74                0.057554               1.37   \n",
      "798                  1.64                0.166667               0.91   \n",
      "\n",
      "     home_pitcher_babip  away_pitcher_k_nine  away_pitcher_bb_nine  \\\n",
      "78             0.285714                 7.50                  0.00   \n",
      "79             0.500000                 9.00                  1.50   \n",
      "81             0.166667                13.50                  5.06   \n",
      "84             0.250000                 9.00                  1.80   \n",
      "91             0.181818                 8.02                  2.95   \n",
      "..                  ...                  ...                   ...   \n",
      "794            0.290816                 7.75                  0.75   \n",
      "795            0.272277                 8.71                  1.71   \n",
      "796            0.303191                 4.50                  3.00   \n",
      "797            0.292929                 7.64                  2.96   \n",
      "798            0.258065                 8.78                  2.98   \n",
      "\n",
      "     away_pitcher_k_bb_diff  away_pitcher_whip  away_pitcher_babip  \n",
      "78                 0.208333               0.83            0.294118  \n",
      "79                 0.227273               0.83            0.266667  \n",
      "81                 0.238095               0.94            0.222222  \n",
      "84                 0.181818               1.80            0.466667  \n",
      "91                 0.127660               1.55            0.343750  \n",
      "..                      ...                ...                 ...  \n",
      "794                0.207407               0.75            0.226804  \n",
      "795                0.203320               0.83            0.175325  \n",
      "796                0.038462               1.17            0.222222  \n",
      "797                0.134276               0.99            0.226316  \n",
      "798                0.161290               0.98            0.200000  \n",
      "\n",
      "[540 rows x 24 columns]>\n"
     ]
    }
   ],
   "source": [
    "df = df.dropna()\n",
    "\n",
    "print(df.head)"
   ]
  },
  {
   "cell_type": "code",
   "execution_count": 54,
   "metadata": {},
   "outputs": [
    {
     "data": {
      "text/plain": [
       "Index(['game_id', 'home_team_id', 'away_team_id', 'home_pitcher_era',\n",
       "       'home_pitcher_win_percentage', 'home_pitcher_wins',\n",
       "       'home_pitcher_losses', 'home_pitcher_innings_pitched',\n",
       "       'away_pitcher_era', 'away_pitcher_win_percentage', 'away_pitcher_wins',\n",
       "       'away_pitcher_losses', 'away_pitcher_innings_pitched', 'winning_team',\n",
       "       'home_pitcher_k_nine', 'home_pitcher_bb_nine', 'home_pitcher_k_bb_diff',\n",
       "       'home_pitcher_whip', 'home_pitcher_babip', 'away_pitcher_k_nine',\n",
       "       'away_pitcher_bb_nine', 'away_pitcher_k_bb_diff', 'away_pitcher_whip',\n",
       "       'away_pitcher_babip'],\n",
       "      dtype='object')"
      ]
     },
     "execution_count": 54,
     "metadata": {},
     "output_type": "execute_result"
    }
   ],
   "source": [
    "df.columns"
   ]
  },
  {
   "cell_type": "code",
   "execution_count": 55,
   "metadata": {},
   "outputs": [],
   "source": [
    "X = []\n",
    "Y = []\n",
    "\n",
    "for index, row in df.iterrows():\n",
    "    pitcher_era_comp = row['away_pitcher_era'] - row['home_pitcher_era']\n",
    "    pitcher_win_percentage_comp = row['away_pitcher_win_percentage'] - row['home_pitcher_win_percentage']\n",
    "    pitcher_win_comp = row['away_pitcher_wins'] - row['home_pitcher_wins']\n",
    "    pitcher_losses_comp = row['away_pitcher_losses'] - row['home_pitcher_losses']\n",
    "    pitcher_innings_pitched_comp = row['away_pitcher_innings_pitched'] - row['home_pitcher_innings_pitched']\n",
    "    pitcher_k_nine_comp = row['away_pitcher_k_nine'] - row['home_pitcher_k_nine']\n",
    "    pitcher_bb_nine_comp = row['away_pitcher_bb_nine'] - row['home_pitcher_bb_nine']\n",
    "    pitcher_k_bb_diff_comp = row['away_pitcher_k_bb_diff'] - row['home_pitcher_k_bb_diff']\n",
    "    pitcher_whip_comp = row['away_pitcher_whip'] - row['home_pitcher_whip']\n",
    "    pitcher_babip_comp = row['away_pitcher_babip'] - row['home_pitcher_babip']\n",
    "\n",
    "    comparison = [pitcher_era_comp, pitcher_win_percentage_comp, pitcher_win_comp, pitcher_losses_comp, pitcher_innings_pitched_comp, pitcher_k_nine_comp, pitcher_bb_nine_comp, pitcher_k_bb_diff_comp, pitcher_whip_comp, pitcher_babip_comp]\n",
    "\n",
    "    X.append(comparison)\n",
    "    Y.append(1 if row['winning_team'] == row['home_team_id'] else 0)\n"
   ]
  },
  {
   "cell_type": "code",
   "execution_count": 56,
   "metadata": {},
   "outputs": [],
   "source": [
    "# Convert the lists to NumPy arrays for compatibility with scikit-learn\n",
    "X = pd.np.array(X)\n",
    "Y = pd.np.array(Y)\n",
    "X = X.reshape(X.shape[0], -1)"
   ]
  },
  {
   "cell_type": "code",
   "execution_count": 57,
   "metadata": {},
   "outputs": [
    {
     "name": "stdout",
     "output_type": "stream",
     "text": [
      "X_train shape: (432, 10)\n",
      "X_test shape: (108, 10)\n",
      "Y_train shape: (432,)\n",
      "Y_test shape: (108,)\n"
     ]
    }
   ],
   "source": [
    "X_train, X_test, Y_train, Y_test = train_test_split(X, Y, test_size=0.2, random_state=42)\n",
    "\n",
    "# Print the shape of the training and testing sets\n",
    "print(\"X_train shape:\", X_train.shape)\n",
    "print(\"X_test shape:\", X_test.shape)\n",
    "print(\"Y_train shape:\", Y_train.shape)\n",
    "print(\"Y_test shape:\", Y_test.shape)"
   ]
  },
  {
   "cell_type": "code",
   "execution_count": 58,
   "metadata": {},
   "outputs": [
    {
     "data": {
      "text/html": [
       "<style>#sk-container-id-4 {color: black;background-color: white;}#sk-container-id-4 pre{padding: 0;}#sk-container-id-4 div.sk-toggleable {background-color: white;}#sk-container-id-4 label.sk-toggleable__label {cursor: pointer;display: block;width: 100%;margin-bottom: 0;padding: 0.3em;box-sizing: border-box;text-align: center;}#sk-container-id-4 label.sk-toggleable__label-arrow:before {content: \"▸\";float: left;margin-right: 0.25em;color: #696969;}#sk-container-id-4 label.sk-toggleable__label-arrow:hover:before {color: black;}#sk-container-id-4 div.sk-estimator:hover label.sk-toggleable__label-arrow:before {color: black;}#sk-container-id-4 div.sk-toggleable__content {max-height: 0;max-width: 0;overflow: hidden;text-align: left;background-color: #f0f8ff;}#sk-container-id-4 div.sk-toggleable__content pre {margin: 0.2em;color: black;border-radius: 0.25em;background-color: #f0f8ff;}#sk-container-id-4 input.sk-toggleable__control:checked~div.sk-toggleable__content {max-height: 200px;max-width: 100%;overflow: auto;}#sk-container-id-4 input.sk-toggleable__control:checked~label.sk-toggleable__label-arrow:before {content: \"▾\";}#sk-container-id-4 div.sk-estimator input.sk-toggleable__control:checked~label.sk-toggleable__label {background-color: #d4ebff;}#sk-container-id-4 div.sk-label input.sk-toggleable__control:checked~label.sk-toggleable__label {background-color: #d4ebff;}#sk-container-id-4 input.sk-hidden--visually {border: 0;clip: rect(1px 1px 1px 1px);clip: rect(1px, 1px, 1px, 1px);height: 1px;margin: -1px;overflow: hidden;padding: 0;position: absolute;width: 1px;}#sk-container-id-4 div.sk-estimator {font-family: monospace;background-color: #f0f8ff;border: 1px dotted black;border-radius: 0.25em;box-sizing: border-box;margin-bottom: 0.5em;}#sk-container-id-4 div.sk-estimator:hover {background-color: #d4ebff;}#sk-container-id-4 div.sk-parallel-item::after {content: \"\";width: 100%;border-bottom: 1px solid gray;flex-grow: 1;}#sk-container-id-4 div.sk-label:hover label.sk-toggleable__label {background-color: #d4ebff;}#sk-container-id-4 div.sk-serial::before {content: \"\";position: absolute;border-left: 1px solid gray;box-sizing: border-box;top: 0;bottom: 0;left: 50%;z-index: 0;}#sk-container-id-4 div.sk-serial {display: flex;flex-direction: column;align-items: center;background-color: white;padding-right: 0.2em;padding-left: 0.2em;position: relative;}#sk-container-id-4 div.sk-item {position: relative;z-index: 1;}#sk-container-id-4 div.sk-parallel {display: flex;align-items: stretch;justify-content: center;background-color: white;position: relative;}#sk-container-id-4 div.sk-item::before, #sk-container-id-4 div.sk-parallel-item::before {content: \"\";position: absolute;border-left: 1px solid gray;box-sizing: border-box;top: 0;bottom: 0;left: 50%;z-index: -1;}#sk-container-id-4 div.sk-parallel-item {display: flex;flex-direction: column;z-index: 1;position: relative;background-color: white;}#sk-container-id-4 div.sk-parallel-item:first-child::after {align-self: flex-end;width: 50%;}#sk-container-id-4 div.sk-parallel-item:last-child::after {align-self: flex-start;width: 50%;}#sk-container-id-4 div.sk-parallel-item:only-child::after {width: 0;}#sk-container-id-4 div.sk-dashed-wrapped {border: 1px dashed gray;margin: 0 0.4em 0.5em 0.4em;box-sizing: border-box;padding-bottom: 0.4em;background-color: white;}#sk-container-id-4 div.sk-label label {font-family: monospace;font-weight: bold;display: inline-block;line-height: 1.2em;}#sk-container-id-4 div.sk-label-container {text-align: center;}#sk-container-id-4 div.sk-container {/* jupyter's `normalize.less` sets `[hidden] { display: none; }` but bootstrap.min.css set `[hidden] { display: none !important; }` so we also need the `!important` here to be able to override the default hidden behavior on the sphinx rendered scikit-learn.org. See: https://github.com/scikit-learn/scikit-learn/issues/21755 */display: inline-block !important;position: relative;}#sk-container-id-4 div.sk-text-repr-fallback {display: none;}</style><div id=\"sk-container-id-4\" class=\"sk-top-container\"><div class=\"sk-text-repr-fallback\"><pre>LogisticRegression()</pre><b>In a Jupyter environment, please rerun this cell to show the HTML representation or trust the notebook. <br />On GitHub, the HTML representation is unable to render, please try loading this page with nbviewer.org.</b></div><div class=\"sk-container\" hidden><div class=\"sk-item\"><div class=\"sk-estimator sk-toggleable\"><input class=\"sk-toggleable__control sk-hidden--visually\" id=\"sk-estimator-id-4\" type=\"checkbox\" checked><label for=\"sk-estimator-id-4\" class=\"sk-toggleable__label sk-toggleable__label-arrow\">LogisticRegression</label><div class=\"sk-toggleable__content\"><pre>LogisticRegression()</pre></div></div></div></div></div>"
      ],
      "text/plain": [
       "LogisticRegression()"
      ]
     },
     "execution_count": 58,
     "metadata": {},
     "output_type": "execute_result"
    }
   ],
   "source": [
    "# Create and train the logistic regression model\n",
    "model = LogisticRegression()\n",
    "model.fit(X_train, Y_train)"
   ]
  },
  {
   "cell_type": "code",
   "execution_count": 59,
   "metadata": {},
   "outputs": [
    {
     "name": "stdout",
     "output_type": "stream",
     "text": [
      "37 71\n"
     ]
    }
   ],
   "source": [
    "# Make predictions on the training set (you can use a separate test set for predictions)\n",
    "pred = model.predict(X_test)\n",
    "\n",
    "zeroes = 0\n",
    "ones = 0\n",
    "\n",
    "for item in pred:\n",
    "    if item == 0:\n",
    "        zeroes += 1\n",
    "    elif item == 1:\n",
    "        ones += 1\n",
    "\n",
    "print(zeroes, ones)\n"
   ]
  },
  {
   "cell_type": "code",
   "execution_count": 60,
   "metadata": {},
   "outputs": [
    {
     "name": "stdout",
     "output_type": "stream",
     "text": [
      "Accuracy: 0.5555555555555556\n"
     ]
    }
   ],
   "source": [
    "# Evaluate the model's performance (e.g., accuracy, precision, recall)\n",
    "accuracy = model.score(X_test, Y_test)\n",
    "print(\"Accuracy:\", accuracy)"
   ]
  },
  {
   "cell_type": "code",
   "execution_count": 61,
   "metadata": {},
   "outputs": [
    {
     "data": {
      "image/png": "[encoded data removed]",
      "text/plain": [
       "<Figure size 640x480 with 2 Axes>"
      ]
     },
     "metadata": {},
     "output_type": "display_data"
    }
   ],
   "source": [
    "import seaborn as sns\n",
    "import matplotlib.pyplot as plt\n",
    "from sklearn.metrics import confusion_matrix\n",
    "\n",
    "# Create a confusion matrix\n",
    "cm = confusion_matrix(Y_test, pred)\n",
    "\n",
    "# Create a heatmap of the confusion matrix\n",
    "sns.heatmap(cm, annot=True, cmap='Blues', fmt='d')\n",
    "\n",
    "# Add labels, title, and ticks to the plot\n",
    "plt.xlabel('Predicted')\n",
    "plt.ylabel('Actual')\n",
    "plt.title('Confusion Matrix')\n",
    "plt.xticks([0.5, 1.5], ['Loss', 'Win'])\n",
    "plt.plot(1, 1)\n",
    "plt.yticks([0.5, 1.5], ['Loss', 'Win'])\n",
    "\n",
    "# Display the plot\n",
    "plt.show()"
   ]
  },
  {
   "cell_type": "code",
   "execution_count": 62,
   "metadata": {},
   "outputs": [
    {
     "name": "stdout",
     "output_type": "stream",
     "text": [
      "              precision    recall  f1-score   support\n",
      "\n",
      "           0       0.46      0.38      0.41        45\n",
      "           1       0.61      0.68      0.64        63\n",
      "\n",
      "    accuracy                           0.56       108\n",
      "   macro avg       0.53      0.53      0.53       108\n",
      "weighted avg       0.54      0.56      0.55       108\n",
      "\n"
     ]
    }
   ],
   "source": [
    "from sklearn.metrics import classification_report\n",
    "\n",
    "# Generate a classification report\n",
    "classification_rep = classification_report(Y_test, pred)\n",
    "print(classification_rep)"
   ]
  }
 ],
 "metadata": {
  "kernelspec": {
   "display_name": "Python 3",
   "language": "python",
   "name": "python3"
  },
  "language_info": {
   "codemirror_mode": {
    "name": "ipython",
    "version": 3
   },
   "file_extension": ".py",
   "mimetype": "text/x-python",
   "name": "python",
   "nbconvert_exporter": "python",
   "pygments_lexer": "ipython3",
   "version": "3.11.2"
  },
  "orig_nbformat": 4
 },
 "nbformat": 4,
 "nbformat_minor": 2
}
