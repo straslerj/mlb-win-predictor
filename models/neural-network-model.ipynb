{
 "cells": [
  {
   "cell_type": "code",
   "execution_count": 68,
   "metadata": {},
   "outputs": [],
   "source": [
    "import os\n",
    "import pandas as pd\n",
    "import psycopg2\n",
    "import matplotlib.pyplot as plt\n",
    "import seaborn as sns\n",
    "from sklearn.metrics import confusion_matrix\n",
    "from sklearn.model_selection import train_test_split\n",
    "import pandas as pd\n",
    "from sklearn.linear_model import LogisticRegression\n",
    "\n",
    "from keras.models import Sequential\n",
    "from keras.layers import Dense\n",
    "from sklearn.model_selection import train_test_split\n",
    "from sklearn.preprocessing import StandardScaler\n",
    "from sklearn.datasets import make_classification\n",
    "\n",
    "import warnings\n",
    "warnings.filterwarnings('ignore')"
   ]
  },
  {
   "cell_type": "code",
   "execution_count": 69,
   "metadata": {},
   "outputs": [],
   "source": [
    "aws_psql_conn = psycopg2.connect(\n",
    "    database=os.getenv(\"AWS_PSQL_DB\"),\n",
    "    user=os.getenv(\"AWS_PSQL_USER\"),\n",
    "    password=os.getenv(\"AWS_PSQL_PASSWORD\"),\n",
    "    host=os.getenv(\"AWS_PSQL_HOST\"),\n",
    "    port=os.getenv(\"AWS_PSQL_PORT\"),\n",
    ")\n",
    "\n",
    "cursor = aws_psql_conn.cursor()"
   ]
  },
  {
   "cell_type": "code",
   "execution_count": 70,
   "metadata": {},
   "outputs": [],
   "source": [
    "sql = f\"select * from games\"\n",
    "\n",
    "cursor.execute(sql)\n",
    "\n",
    "rows = cursor.fetchall()\n",
    "\n",
    "column_names = [desc[0] for desc in cursor.description]"
   ]
  },
  {
   "cell_type": "code",
   "execution_count": 71,
   "metadata": {},
   "outputs": [
    {
     "name": "stdout",
     "output_type": "stream",
     "text": [
      "<bound method NDFrame.head of       game_id  home_team_id       home_team_name  away_team_id  \\\n",
      "0      718698           158    Milwaukee Brewers           121   \n",
      "1      718781           147     New York Yankees           137   \n",
      "2      718782           111       Boston Red Sox           110   \n",
      "3      718777           112         Chicago Cubs           158   \n",
      "4      718776           139       Tampa Bay Rays           116   \n",
      "...       ...           ...                  ...           ...   \n",
      "1199   717584           112         Chicago Cubs           143   \n",
      "1200   717433           147     New York Yankees           112   \n",
      "1201   717581           121        New York Mets           158   \n",
      "1202   717582           138  St. Louis Cardinals           117   \n",
      "1203   717580           140        Texas Rangers           116   \n",
      "\n",
      "             away_team_name      home_pitcher  home_pitcher_id  \\\n",
      "0             New York Mets     Corbin Burnes         669203.0   \n",
      "1      San Francisco Giants       Gerrit Cole         543037.0   \n",
      "2         Baltimore Orioles      Corey Kluber         446372.0   \n",
      "3         Milwaukee Brewers    Marcus Stroman         573186.0   \n",
      "4            Detroit Tigers  Shane McClanahan         663556.0   \n",
      "...                     ...               ...              ...   \n",
      "1199  Philadelphia Phillies        Drew Smyly         592767.0   \n",
      "1200           Chicago Cubs    Domingo German         593334.0   \n",
      "1201      Milwaukee Brewers       Kodai Senga         673540.0   \n",
      "1202         Houston Astros     Miles Mikolas         571945.0   \n",
      "1203         Detroit Tigers      Dane Dunning         641540.0   \n",
      "\n",
      "      home_pitcher_era  home_pitcher_win_percentage  home_pitcher_wins  ...  \\\n",
      "0                 7.20                        0.000                0.0  ...   \n",
      "1                  NaN                          NaN                NaN  ...   \n",
      "2                  NaN                          NaN                NaN  ...   \n",
      "3                  NaN                          NaN                NaN  ...   \n",
      "4                  NaN                          NaN                NaN  ...   \n",
      "...                ...                          ...                ...  ...   \n",
      "1199              3.38                        0.636                7.0  ...   \n",
      "1200              4.52                        0.500                5.0  ...   \n",
      "1201              3.52                        0.545                6.0  ...   \n",
      "1202              4.23                        0.444                4.0  ...   \n",
      "1203              2.76                        0.857                6.0  ...   \n",
      "\n",
      "      home_pitcher_bb_nine  home_pitcher_k_bb_diff home_pitcher_whip  \\\n",
      "0                     5.40                0.000000              1.40   \n",
      "1                      NaN                     NaN               NaN   \n",
      "2                      NaN                     NaN               NaN   \n",
      "3                      NaN                     NaN               NaN   \n",
      "4                      NaN                     NaN               NaN   \n",
      "...                    ...                     ...               ...   \n",
      "1199                  2.83                0.124277              1.22   \n",
      "1200                  2.63                0.164306              1.10   \n",
      "1201                  5.17                0.147590              1.34   \n",
      "1202                  1.83                0.115479              1.36   \n",
      "1203                  2.64                0.068493              1.17   \n",
      "\n",
      "      home_pitcher_babip  away_pitcher_k_nine  away_pitcher_bb_nine  \\\n",
      "0               0.250000                 9.00                  1.80   \n",
      "1                    NaN                  NaN                   NaN   \n",
      "2                    NaN                  NaN                   NaN   \n",
      "3                    NaN                  NaN                   NaN   \n",
      "4                    NaN                  NaN                   NaN   \n",
      "...                  ...                  ...                   ...   \n",
      "1199            0.270042                 8.76                  2.32   \n",
      "1200            0.240000                 5.10                  1.89   \n",
      "1201            0.270270                 5.30                  1.88   \n",
      "1202            0.321311                 8.35                  2.60   \n",
      "1203            0.266968                 8.19                  3.90   \n",
      "\n",
      "      away_pitcher_k_bb_diff  away_pitcher_whip  away_pitcher_babip  \\\n",
      "0                   0.181818               1.80            0.466667   \n",
      "1                        NaN                NaN                 NaN   \n",
      "2                        NaN                NaN                 NaN   \n",
      "3                        NaN                NaN                 NaN   \n",
      "4                        NaN                NaN                 NaN   \n",
      "...                      ...                ...                 ...   \n",
      "1199                0.178660               1.07            0.255725   \n",
      "1200                0.090426               0.94            0.224490   \n",
      "1201                0.095694               1.03            0.232704   \n",
      "1202                0.157738               1.12            0.267857   \n",
      "1203                0.105611               1.58            0.316583   \n",
      "\n",
      "      predicted_winner  \n",
      "0                  1.0  \n",
      "1                  NaN  \n",
      "2                  NaN  \n",
      "3                  NaN  \n",
      "4                  NaN  \n",
      "...                ...  \n",
      "1199               0.0  \n",
      "1200               NaN  \n",
      "1201               1.0  \n",
      "1202               1.0  \n",
      "1203               1.0  \n",
      "\n",
      "[1204 rows x 31 columns]>\n"
     ]
    }
   ],
   "source": [
    "df = pd.DataFrame(rows, columns=column_names)\n",
    "\n",
    "print(df.head)"
   ]
  },
  {
   "cell_type": "code",
   "execution_count": 72,
   "metadata": {},
   "outputs": [
    {
     "name": "stdout",
     "output_type": "stream",
     "text": [
      "<bound method NDFrame.head of       game_id  home_team_id  away_team_id  home_pitcher_era  \\\n",
      "0      718698           158           121              7.20   \n",
      "1      718781           147           137               NaN   \n",
      "2      718782           111           110               NaN   \n",
      "3      718777           112           158               NaN   \n",
      "4      718776           139           116               NaN   \n",
      "...       ...           ...           ...               ...   \n",
      "1199   717584           112           143              3.38   \n",
      "1200   717433           147           112              4.52   \n",
      "1201   717581           121           158              3.52   \n",
      "1202   717582           138           117              4.23   \n",
      "1203   717580           140           116              2.76   \n",
      "\n",
      "      home_pitcher_win_percentage  home_pitcher_wins  home_pitcher_losses  \\\n",
      "0                           0.000                0.0                  1.0   \n",
      "1                             NaN                NaN                  NaN   \n",
      "2                             NaN                NaN                  NaN   \n",
      "3                             NaN                NaN                  NaN   \n",
      "4                             NaN                NaN                  NaN   \n",
      "...                           ...                ...                  ...   \n",
      "1199                        0.636                7.0                  4.0   \n",
      "1200                        0.500                5.0                  5.0   \n",
      "1201                        0.545                6.0                  5.0   \n",
      "1202                        0.444                4.0                  5.0   \n",
      "1203                        0.857                6.0                  1.0   \n",
      "\n",
      "      home_pitcher_innings_pitched  away_pitcher_era  \\\n",
      "0                              5.0              1.80   \n",
      "1                              NaN               NaN   \n",
      "2                              NaN               NaN   \n",
      "3                              NaN               NaN   \n",
      "4                              NaN               NaN   \n",
      "...                            ...               ...   \n",
      "1199                          82.6              4.38   \n",
      "1200                          85.6              2.64   \n",
      "1201                          76.6              2.91   \n",
      "1202                          93.6              3.25   \n",
      "1203                          71.6              6.72   \n",
      "\n",
      "      away_pitcher_win_percentage  ...  home_pitcher_bb_nine  \\\n",
      "0                           0.000  ...                  5.40   \n",
      "1                             NaN  ...                   NaN   \n",
      "2                             NaN  ...                   NaN   \n",
      "3                             NaN  ...                   NaN   \n",
      "4                             NaN  ...                   NaN   \n",
      "...                           ...  ...                   ...   \n",
      "1199                        0.545  ...                  2.83   \n",
      "1200                        0.500  ...                  2.63   \n",
      "1201                        0.714  ...                  5.17   \n",
      "1202                        0.875  ...                  1.83   \n",
      "1203                        0.111  ...                  2.64   \n",
      "\n",
      "      home_pitcher_k_bb_diff  home_pitcher_whip  home_pitcher_babip  \\\n",
      "0                   0.000000               1.40            0.250000   \n",
      "1                        NaN                NaN                 NaN   \n",
      "2                        NaN                NaN                 NaN   \n",
      "3                        NaN                NaN                 NaN   \n",
      "4                        NaN                NaN                 NaN   \n",
      "...                      ...                ...                 ...   \n",
      "1199                0.124277               1.22            0.270042   \n",
      "1200                0.164306               1.10            0.240000   \n",
      "1201                0.147590               1.34            0.270270   \n",
      "1202                0.115479               1.36            0.321311   \n",
      "1203                0.068493               1.17            0.266968   \n",
      "\n",
      "      away_pitcher_k_nine  away_pitcher_bb_nine  away_pitcher_k_bb_diff  \\\n",
      "0                    9.00                  1.80                0.181818   \n",
      "1                     NaN                   NaN                     NaN   \n",
      "2                     NaN                   NaN                     NaN   \n",
      "3                     NaN                   NaN                     NaN   \n",
      "4                     NaN                   NaN                     NaN   \n",
      "...                   ...                   ...                     ...   \n",
      "1199                 8.76                  2.32                0.178660   \n",
      "1200                 5.10                  1.89                0.090426   \n",
      "1201                 5.30                  1.88                0.095694   \n",
      "1202                 8.35                  2.60                0.157738   \n",
      "1203                 8.19                  3.90                0.105611   \n",
      "\n",
      "      away_pitcher_whip  away_pitcher_babip  predicted_winner  \n",
      "0                  1.80            0.466667               1.0  \n",
      "1                   NaN                 NaN               NaN  \n",
      "2                   NaN                 NaN               NaN  \n",
      "3                   NaN                 NaN               NaN  \n",
      "4                   NaN                 NaN               NaN  \n",
      "...                 ...                 ...               ...  \n",
      "1199               1.07            0.255725               0.0  \n",
      "1200               0.94            0.224490               NaN  \n",
      "1201               1.03            0.232704               1.0  \n",
      "1202               1.12            0.267857               1.0  \n",
      "1203               1.58            0.316583               1.0  \n",
      "\n",
      "[1204 rows x 25 columns]>\n"
     ]
    }
   ],
   "source": [
    "columns_to_remove = [\n",
    "    \"home_team_name\",\n",
    "    \"away_team_name\",\n",
    "    \"home_pitcher\",\n",
    "    \"home_pitcher_id\",\n",
    "    \"away_pitcher\",\n",
    "    \"away_pitcher_id\",\n",
    "]\n",
    "\n",
    "df = df.drop(columns=columns_to_remove)\n",
    "\n",
    "print(df.head)"
   ]
  },
  {
   "cell_type": "code",
   "execution_count": 73,
   "metadata": {},
   "outputs": [
    {
     "name": "stdout",
     "output_type": "stream",
     "text": [
      "<bound method NDFrame.head of       game_id  home_team_id  away_team_id  home_pitcher_era  \\\n",
      "0      718698           158           121              7.20   \n",
      "72     718703           119           115              3.00   \n",
      "73     718704           120           139              6.00   \n",
      "74     718701           146           142              0.00   \n",
      "77     717821           116           109              5.23   \n",
      "...       ...           ...           ...               ...   \n",
      "1198   717888           119           147              1.64   \n",
      "1199   717584           112           143              3.38   \n",
      "1201   717581           121           158              3.52   \n",
      "1202   717582           138           117              4.23   \n",
      "1203   717580           140           116              2.76   \n",
      "\n",
      "      home_pitcher_win_percentage  home_pitcher_wins  home_pitcher_losses  \\\n",
      "0                           0.000                0.0                  1.0   \n",
      "72                          1.000                1.0                  0.0   \n",
      "73                          0.000                0.0                  1.0   \n",
      "74                          1.000                1.0                  0.0   \n",
      "77                          0.429                3.0                  4.0   \n",
      "...                           ...                ...                  ...   \n",
      "1198                        1.000                2.0                  0.0   \n",
      "1199                        0.636                7.0                  4.0   \n",
      "1201                        0.545                6.0                  5.0   \n",
      "1202                        0.444                4.0                  5.0   \n",
      "1203                        0.857                6.0                  1.0   \n",
      "\n",
      "      home_pitcher_innings_pitched  away_pitcher_era  \\\n",
      "0                              5.0              1.80   \n",
      "72                             6.0              3.00   \n",
      "73                             3.0              0.00   \n",
      "74                             5.6              0.00   \n",
      "77                            53.3              5.40   \n",
      "...                            ...               ...   \n",
      "1198                          11.0              3.98   \n",
      "1199                          82.6              4.38   \n",
      "1201                          76.6              2.91   \n",
      "1202                          93.6              3.25   \n",
      "1203                          71.6              6.72   \n",
      "\n",
      "      away_pitcher_win_percentage  ...  home_pitcher_bb_nine  \\\n",
      "0                           0.000  ...                  5.40   \n",
      "72                          1.000  ...                  0.00   \n",
      "73                          1.000  ...                  9.00   \n",
      "74                          1.000  ...                  6.35   \n",
      "77                          0.400  ...                  3.71   \n",
      "...                           ...  ...                   ...   \n",
      "1198                        0.500  ...                  1.64   \n",
      "1199                        0.545  ...                  2.83   \n",
      "1201                        0.714  ...                  5.17   \n",
      "1202                        0.875  ...                  1.83   \n",
      "1203                        0.111  ...                  2.64   \n",
      "\n",
      "      home_pitcher_k_bb_diff  home_pitcher_whip  home_pitcher_babip  \\\n",
      "0                   0.000000               1.40            0.250000   \n",
      "72                  0.285714               0.67            0.285714   \n",
      "73                  0.000000               3.33            0.500000   \n",
      "74                  0.047619               1.06            0.166667   \n",
      "77                  0.134199               1.33            0.285714   \n",
      "...                      ...                ...                 ...   \n",
      "1198                0.166667               0.91            0.258065   \n",
      "1199                0.124277               1.22            0.270042   \n",
      "1201                0.147590               1.34            0.270270   \n",
      "1202                0.115479               1.36            0.321311   \n",
      "1203                0.068493               1.17            0.266968   \n",
      "\n",
      "      away_pitcher_k_nine  away_pitcher_bb_nine  away_pitcher_k_bb_diff  \\\n",
      "0                    9.00                  1.80                0.181818   \n",
      "72                   7.50                  0.00                0.208333   \n",
      "73                   9.00                  1.50                0.227273   \n",
      "74                  13.50                  5.06                0.238095   \n",
      "77                   5.40                  3.21                0.056391   \n",
      "...                   ...                   ...                     ...   \n",
      "1198                 8.78                  2.98                0.161290   \n",
      "1199                 8.76                  2.32                0.178660   \n",
      "1201                 5.30                  1.88                0.095694   \n",
      "1202                 8.35                  2.60                0.157738   \n",
      "1203                 8.19                  3.90                0.105611   \n",
      "\n",
      "      away_pitcher_whip  away_pitcher_babip  predicted_winner  \n",
      "0                  1.80            0.466667               1.0  \n",
      "72                 0.83            0.294118               1.0  \n",
      "73                 0.83            0.266667               0.0  \n",
      "74                 0.94            0.222222               1.0  \n",
      "77                 1.49            0.314721               1.0  \n",
      "...                 ...                 ...               ...  \n",
      "1198               0.98            0.200000               0.0  \n",
      "1199               1.07            0.255725               0.0  \n",
      "1201               1.03            0.232704               1.0  \n",
      "1202               1.12            0.267857               1.0  \n",
      "1203               1.58            0.316583               1.0  \n",
      "\n",
      "[827 rows x 25 columns]>\n"
     ]
    }
   ],
   "source": [
    "df = df.dropna()\n",
    "\n",
    "print(df.head)"
   ]
  },
  {
   "cell_type": "code",
   "execution_count": 74,
   "metadata": {},
   "outputs": [
    {
     "data": {
      "text/plain": [
       "Index(['game_id', 'home_team_id', 'away_team_id', 'home_pitcher_era',\n",
       "       'home_pitcher_win_percentage', 'home_pitcher_wins',\n",
       "       'home_pitcher_losses', 'home_pitcher_innings_pitched',\n",
       "       'away_pitcher_era', 'away_pitcher_win_percentage', 'away_pitcher_wins',\n",
       "       'away_pitcher_losses', 'away_pitcher_innings_pitched', 'winning_team',\n",
       "       'home_pitcher_k_nine', 'home_pitcher_bb_nine', 'home_pitcher_k_bb_diff',\n",
       "       'home_pitcher_whip', 'home_pitcher_babip', 'away_pitcher_k_nine',\n",
       "       'away_pitcher_bb_nine', 'away_pitcher_k_bb_diff', 'away_pitcher_whip',\n",
       "       'away_pitcher_babip', 'predicted_winner'],\n",
       "      dtype='object')"
      ]
     },
     "execution_count": 74,
     "metadata": {},
     "output_type": "execute_result"
    }
   ],
   "source": [
    "df.columns"
   ]
  },
  {
   "cell_type": "code",
   "execution_count": 75,
   "metadata": {},
   "outputs": [],
   "source": [
    "X = []\n",
    "Y = []\n",
    "\n",
    "for index, row in df.iterrows():\n",
    "    pitcher_innings_pitched_comp = row['away_pitcher_innings_pitched'] - row['home_pitcher_innings_pitched']\n",
    "    pitcher_k_nine_comp = row['away_pitcher_k_nine'] - row['home_pitcher_k_nine']\n",
    "    pitcher_bb_nine_comp = row['away_pitcher_bb_nine'] - row['home_pitcher_bb_nine']\n",
    "    pitcher_k_bb_diff_comp = row['away_pitcher_k_bb_diff'] - row['home_pitcher_k_bb_diff']\n",
    "    pitcher_whip_comp = row['away_pitcher_whip'] - row['home_pitcher_whip']\n",
    "    pitcher_babip_comp = row['away_pitcher_babip'] - row['home_pitcher_babip']\n",
    "\n",
    "    comparison = [pitcher_innings_pitched_comp, pitcher_k_nine_comp, pitcher_bb_nine_comp, pitcher_k_bb_diff_comp, pitcher_whip_comp, pitcher_babip_comp]\n",
    "\n",
    "    X.append(comparison)\n",
    "    Y.append(1 if row['winning_team'] == row['home_team_id'] else 0)\n"
   ]
  },
  {
   "cell_type": "code",
   "execution_count": 76,
   "metadata": {},
   "outputs": [],
   "source": [
    "# Convert the lists to NumPy arrays for compatibility with scikit-learn\n",
    "X = pd.np.array(X)\n",
    "Y = pd.np.array(Y)\n",
    "X = X.reshape(X.shape[0], -1)"
   ]
  },
  {
   "cell_type": "code",
   "execution_count": 77,
   "metadata": {},
   "outputs": [
    {
     "name": "stdout",
     "output_type": "stream",
     "text": [
      "X_train shape: (661, 6)\n",
      "X_test shape: (166, 6)\n",
      "Y_train shape: (661,)\n",
      "Y_test shape: (166,)\n"
     ]
    }
   ],
   "source": [
    "X_train, X_test, Y_train, Y_test = train_test_split(X, Y, test_size=0.2, random_state=42)\n",
    "\n",
    "# Print the shape of the training and testing sets\n",
    "print(\"X_train shape:\", X_train.shape)\n",
    "print(\"X_test shape:\", X_test.shape)\n",
    "print(\"Y_train shape:\", Y_train.shape)\n",
    "print(\"Y_test shape:\", Y_test.shape)"
   ]
  },
  {
   "cell_type": "code",
   "execution_count": 78,
   "metadata": {},
   "outputs": [],
   "source": [
    "scaler = StandardScaler()\n",
    "\n",
    "X_train = scaler.fit_transform(X_train)\n",
    "X_test = scaler.fit_transform(X_test)"
   ]
  },
  {
   "cell_type": "code",
   "execution_count": 79,
   "metadata": {},
   "outputs": [],
   "source": [
    "model = Sequential()\n",
    "model.add(Dense(units=10, activation='relu', input_dim=X_train.shape[1]))\n",
    "model.add(Dense(units=1, activation='sigmoid'))"
   ]
  },
  {
   "cell_type": "code",
   "execution_count": 80,
   "metadata": {},
   "outputs": [],
   "source": [
    "model.compile(optimizer='adam', loss='binary_crossentropy', metrics=['accuracy'])\n"
   ]
  },
  {
   "cell_type": "code",
   "execution_count": 81,
   "metadata": {},
   "outputs": [
    {
     "name": "stdout",
     "output_type": "stream",
     "text": [
      "Epoch 1/10\n"
     ]
    },
    {
     "name": "stdout",
     "output_type": "stream",
     "text": [
      "21/21 [==============================] - 0s 557us/step - loss: 0.8459 - accuracy: 0.4750\n",
      "Epoch 2/10\n",
      "21/21 [==============================] - 0s 593us/step - loss: 0.8093 - accuracy: 0.4705\n",
      "Epoch 3/10\n",
      "21/21 [==============================] - 0s 458us/step - loss: 0.7808 - accuracy: 0.4720\n",
      "Epoch 4/10\n",
      "21/21 [==============================] - 0s 522us/step - loss: 0.7589 - accuracy: 0.4690\n",
      "Epoch 5/10\n",
      "21/21 [==============================] - 0s 476us/step - loss: 0.7435 - accuracy: 0.4766\n",
      "Epoch 6/10\n",
      "21/21 [==============================] - 0s 436us/step - loss: 0.7302 - accuracy: 0.4750\n",
      "Epoch 7/10\n",
      "21/21 [==============================] - 0s 589us/step - loss: 0.7209 - accuracy: 0.4856\n",
      "Epoch 8/10\n",
      "21/21 [==============================] - 0s 448us/step - loss: 0.7140 - accuracy: 0.4947\n",
      "Epoch 9/10\n",
      "21/21 [==============================] - 0s 433us/step - loss: 0.7089 - accuracy: 0.5023\n",
      "Epoch 10/10\n",
      "21/21 [==============================] - 0s 456us/step - loss: 0.7042 - accuracy: 0.5144\n"
     ]
    },
    {
     "data": {
      "text/plain": [
       "<keras.src.callbacks.History at 0x29648c990>"
      ]
     },
     "execution_count": 81,
     "metadata": {},
     "output_type": "execute_result"
    }
   ],
   "source": [
    "model.fit(X_train, Y_train, epochs=10, batch_size=32, verbose=1)\n"
   ]
  },
  {
   "cell_type": "code",
   "execution_count": 82,
   "metadata": {},
   "outputs": [
    {
     "name": "stdout",
     "output_type": "stream",
     "text": [
      "6/6 [==============================] - 0s 722us/step - loss: 0.7049 - accuracy: 0.5000\n",
      "Test Loss: 0.7049\n",
      "Test Accuracy: 0.5000\n"
     ]
    }
   ],
   "source": [
    "loss, accuracy = model.evaluate(X_test, Y_test)\n",
    "print(f'Test Loss: {loss:.4f}')\n",
    "print(f'Test Accuracy: {accuracy:.4f}')\n"
   ]
  }
 ],
 "metadata": {
  "kernelspec": {
   "display_name": "Python 3",
   "language": "python",
   "name": "python3"
  },
  "language_info": {
   "codemirror_mode": {
    "name": "ipython",
    "version": 3
   },
   "file_extension": ".py",
   "mimetype": "text/x-python",
   "name": "python",
   "nbconvert_exporter": "python",
   "pygments_lexer": "ipython3",
   "version": "3.11.4"
  },
  "orig_nbformat": 4
 },
 "nbformat": 4,
 "nbformat_minor": 2
}
