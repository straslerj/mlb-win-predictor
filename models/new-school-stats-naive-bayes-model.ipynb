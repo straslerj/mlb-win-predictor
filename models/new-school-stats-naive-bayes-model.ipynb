{
 "cells": [
  {
   "cell_type": "code",
   "execution_count": 12,
   "metadata": {},
   "outputs": [],
   "source": [
    "import os\n",
    "import pandas as pd\n",
    "import psycopg2\n",
    "import matplotlib.pyplot as plt\n",
    "import seaborn as sns\n",
    "from sklearn.metrics import confusion_matrix\n",
    "from sklearn.model_selection import train_test_split\n",
    "import pandas as pd\n",
    "# from sklearn.linear_model import LogisticRegression\n",
    "from sklearn.naive_bayes import GaussianNB\n",
    "\n",
    "import warnings\n",
    "warnings.filterwarnings('ignore')"
   ]
  },
  {
   "cell_type": "code",
   "execution_count": 13,
   "metadata": {},
   "outputs": [],
   "source": [
    "aws_psql_conn = psycopg2.connect(\n",
    "    database=os.getenv(\"AWS_PSQL_DB\"),\n",
    "    user=os.getenv(\"AWS_PSQL_USER\"),\n",
    "    password=os.getenv(\"AWS_PSQL_PASSWORD\"),\n",
    "    host=os.getenv(\"AWS_PSQL_HOST\"),\n",
    "    port=os.getenv(\"AWS_PSQL_PORT\"),\n",
    ")\n",
    "\n",
    "cursor = aws_psql_conn.cursor()"
   ]
  },
  {
   "cell_type": "code",
   "execution_count": 14,
   "metadata": {},
   "outputs": [],
   "source": [
    "sql = f\"select * from games\"\n",
    "\n",
    "cursor.execute(sql)\n",
    "\n",
    "rows = cursor.fetchall()\n",
    "\n",
    "column_names = [desc[0] for desc in cursor.description]"
   ]
  },
  {
   "cell_type": "code",
   "execution_count": 15,
   "metadata": {},
   "outputs": [
    {
     "name": "stdout",
     "output_type": "stream",
     "text": [
      "<bound method NDFrame.head of       game_id  home_team_id         home_team_name  away_team_id  \\\n",
      "0      718698           158      Milwaukee Brewers           121   \n",
      "1      718781           147       New York Yankees           137   \n",
      "2      718782           111         Boston Red Sox           110   \n",
      "3      718777           112           Chicago Cubs           158   \n",
      "4      718776           139         Tampa Bay Rays           116   \n",
      "...       ...           ...                    ...           ...   \n",
      "2094   748577           143  Philadelphia Phillies           146   \n",
      "2095   748580           139         Tampa Bay Rays           140   \n",
      "2096   748583           142        Minnesota Twins           141   \n",
      "2097   748578           158      Milwaukee Brewers           109   \n",
      "2098   748575           143  Philadelphia Phillies           146   \n",
      "\n",
      "            away_team_name      home_pitcher  home_pitcher_id  \\\n",
      "0            New York Mets     Corbin Burnes         669203.0   \n",
      "1     San Francisco Giants       Gerrit Cole         543037.0   \n",
      "2        Baltimore Orioles      Corey Kluber         446372.0   \n",
      "3        Milwaukee Brewers    Marcus Stroman         573186.0   \n",
      "4           Detroit Tigers  Shane McClanahan         663556.0   \n",
      "...                    ...               ...              ...   \n",
      "2094         Miami Marlins      Zack Wheeler         554430.0   \n",
      "2095         Texas Rangers        Zach Eflin         621107.0   \n",
      "2096     Toronto Blue Jays        Sonny Gray         543243.0   \n",
      "2097  Arizona Diamondbacks    Freddy Peralta         642547.0   \n",
      "2098         Miami Marlins        Aaron Nola         605400.0   \n",
      "\n",
      "      home_pitcher_era  home_pitcher_win_percentage  home_pitcher_wins  ...  \\\n",
      "0                 7.20                        0.000                0.0  ...   \n",
      "1                  NaN                          NaN                NaN  ...   \n",
      "2                  NaN                          NaN                NaN  ...   \n",
      "3                  NaN                          NaN                NaN  ...   \n",
      "4                  NaN                          NaN                NaN  ...   \n",
      "...                ...                          ...                ...  ...   \n",
      "2094              3.61                        0.684               13.0  ...   \n",
      "2095              3.50                        0.667               16.0  ...   \n",
      "2096              2.79                        0.500                8.0  ...   \n",
      "2097              3.86                        0.545               12.0  ...   \n",
      "2098              4.46                        0.571               12.0  ...   \n",
      "\n",
      "      home_pitcher_bb_nine  home_pitcher_k_bb_diff home_pitcher_whip  \\\n",
      "0                     5.40                0.000000              1.40   \n",
      "1                      NaN                     NaN               NaN   \n",
      "2                      NaN                     NaN               NaN   \n",
      "3                      NaN                     NaN               NaN   \n",
      "4                      NaN                     NaN               NaN   \n",
      "...                    ...                     ...               ...   \n",
      "2094                  1.83                0.219822              1.08   \n",
      "2095                  1.22                0.230441              1.02   \n",
      "2096                  2.69                0.169761              1.15   \n",
      "2097                  2.93                0.229412              1.12   \n",
      "2098                  2.09                0.197982              1.15   \n",
      "\n",
      "      home_pitcher_babip  away_pitcher_k_nine  away_pitcher_bb_nine  \\\n",
      "0               0.250000                 9.00                  1.80   \n",
      "1                    NaN                  NaN                   NaN   \n",
      "2                    NaN                  NaN                   NaN   \n",
      "3                    NaN                  NaN                   NaN   \n",
      "4                    NaN                  NaN                   NaN   \n",
      "...                  ...                  ...                   ...   \n",
      "2094            0.291913                10.48                  2.77   \n",
      "2095            0.296375                 8.25                  2.94   \n",
      "2096            0.295409                 8.73                  2.47   \n",
      "2097            0.274869                 9.43                  2.01   \n",
      "2098            0.285714                 8.79                  1.63   \n",
      "\n",
      "      away_pitcher_k_bb_diff  away_pitcher_whip  away_pitcher_babip  \\\n",
      "0                   0.181818               1.80            0.466667   \n",
      "1                        NaN                NaN                 NaN   \n",
      "2                        NaN                NaN                 NaN   \n",
      "3                        NaN                NaN                 NaN   \n",
      "4                        NaN                NaN                 NaN   \n",
      "...                      ...                ...                 ...   \n",
      "2094                0.206478               1.22            0.314031   \n",
      "2095                0.147314               1.14            0.271277   \n",
      "2096                0.168798               1.19            0.290196   \n",
      "2097                0.204492               1.12            0.300725   \n",
      "2098                0.192716               1.15            0.302483   \n",
      "\n",
      "      predicted_winner  \n",
      "0                  1.0  \n",
      "1                  NaN  \n",
      "2                  NaN  \n",
      "3                  NaN  \n",
      "4                  NaN  \n",
      "...                ...  \n",
      "2094               1.0  \n",
      "2095               1.0  \n",
      "2096               1.0  \n",
      "2097               1.0  \n",
      "2098               1.0  \n",
      "\n",
      "[2099 rows x 31 columns]>\n"
     ]
    }
   ],
   "source": [
    "df = pd.DataFrame(rows, columns=column_names)\n",
    "\n",
    "print(df.head)"
   ]
  },
  {
   "cell_type": "code",
   "execution_count": 16,
   "metadata": {},
   "outputs": [
    {
     "name": "stdout",
     "output_type": "stream",
     "text": [
      "<bound method NDFrame.head of       game_id  home_team_id  away_team_id  home_pitcher_era  \\\n",
      "0      718698           158           121              7.20   \n",
      "1      718781           147           137               NaN   \n",
      "2      718782           111           110               NaN   \n",
      "3      718777           112           158               NaN   \n",
      "4      718776           139           116               NaN   \n",
      "...       ...           ...           ...               ...   \n",
      "2094   748577           143           146              3.61   \n",
      "2095   748580           139           140              3.50   \n",
      "2096   748583           142           141              2.79   \n",
      "2097   748578           158           109              3.86   \n",
      "2098   748575           143           146              4.46   \n",
      "\n",
      "      home_pitcher_win_percentage  home_pitcher_wins  home_pitcher_losses  \\\n",
      "0                           0.000                0.0                  1.0   \n",
      "1                             NaN                NaN                  NaN   \n",
      "2                             NaN                NaN                  NaN   \n",
      "3                             NaN                NaN                  NaN   \n",
      "4                             NaN                NaN                  NaN   \n",
      "...                           ...                ...                  ...   \n",
      "2094                        0.684               13.0                  6.0   \n",
      "2095                        0.667               16.0                  8.0   \n",
      "2096                        0.500                8.0                  8.0   \n",
      "2097                        0.545               12.0                 10.0   \n",
      "2098                        0.571               12.0                  9.0   \n",
      "\n",
      "      home_pitcher_innings_pitched  away_pitcher_era  \\\n",
      "0                              5.0              1.80   \n",
      "1                              NaN               NaN   \n",
      "2                              NaN               NaN   \n",
      "3                              NaN               NaN   \n",
      "4                              NaN               NaN   \n",
      "...                            ...               ...   \n",
      "2094                         192.0              3.63   \n",
      "2095                         177.6              3.63   \n",
      "2096                         184.0              3.65   \n",
      "2097                         165.6              3.47   \n",
      "2098                         193.6              3.66   \n",
      "\n",
      "      away_pitcher_win_percentage  ...  home_pitcher_bb_nine  \\\n",
      "0                           0.000  ...                  5.40   \n",
      "1                             NaN  ...                   NaN   \n",
      "2                             NaN  ...                   NaN   \n",
      "3                             NaN  ...                   NaN   \n",
      "4                             NaN  ...                   NaN   \n",
      "...                           ...  ...                   ...   \n",
      "2094                        0.526  ...                  1.83   \n",
      "2095                        0.706  ...                  1.22   \n",
      "2096                        0.478  ...                  2.69   \n",
      "2097                        0.654  ...                  2.93   \n",
      "2098                        0.563  ...                  2.09   \n",
      "\n",
      "      home_pitcher_k_bb_diff  home_pitcher_whip  home_pitcher_babip  \\\n",
      "0                   0.000000               1.40            0.250000   \n",
      "1                        NaN                NaN                 NaN   \n",
      "2                        NaN                NaN                 NaN   \n",
      "3                        NaN                NaN                 NaN   \n",
      "4                        NaN                NaN                 NaN   \n",
      "...                      ...                ...                 ...   \n",
      "2094                0.219822               1.08            0.291913   \n",
      "2095                0.230441               1.02            0.296375   \n",
      "2096                0.169761               1.15            0.295409   \n",
      "2097                0.229412               1.12            0.274869   \n",
      "2098                0.197982               1.15            0.285714   \n",
      "\n",
      "      away_pitcher_k_nine  away_pitcher_bb_nine  away_pitcher_k_bb_diff  \\\n",
      "0                    9.00                  1.80                0.181818   \n",
      "1                     NaN                   NaN                     NaN   \n",
      "2                     NaN                   NaN                     NaN   \n",
      "3                     NaN                   NaN                     NaN   \n",
      "4                     NaN                   NaN                     NaN   \n",
      "...                   ...                   ...                     ...   \n",
      "2094                10.48                  2.77                0.206478   \n",
      "2095                 8.25                  2.94                0.147314   \n",
      "2096                 8.73                  2.47                0.168798   \n",
      "2097                 9.43                  2.01                0.204492   \n",
      "2098                 8.79                  1.63                0.192716   \n",
      "\n",
      "      away_pitcher_whip  away_pitcher_babip  predicted_winner  \n",
      "0                  1.80            0.466667               1.0  \n",
      "1                   NaN                 NaN               NaN  \n",
      "2                   NaN                 NaN               NaN  \n",
      "3                   NaN                 NaN               NaN  \n",
      "4                   NaN                 NaN               NaN  \n",
      "...                 ...                 ...               ...  \n",
      "2094               1.22            0.314031               1.0  \n",
      "2095               1.14            0.271277               1.0  \n",
      "2096               1.19            0.290196               1.0  \n",
      "2097               1.12            0.300725               1.0  \n",
      "2098               1.15            0.302483               1.0  \n",
      "\n",
      "[2099 rows x 25 columns]>\n"
     ]
    }
   ],
   "source": [
    "columns_to_remove = [\n",
    "    \"home_team_name\",\n",
    "    \"away_team_name\",\n",
    "    \"home_pitcher\",\n",
    "    \"home_pitcher_id\",\n",
    "    \"away_pitcher\",\n",
    "    \"away_pitcher_id\",\n",
    "]\n",
    "\n",
    "df = df.drop(columns=columns_to_remove)\n",
    "\n",
    "print(df.head)"
   ]
  },
  {
   "cell_type": "code",
   "execution_count": 17,
   "metadata": {},
   "outputs": [
    {
     "name": "stdout",
     "output_type": "stream",
     "text": [
      "<bound method NDFrame.head of       game_id  home_team_id  away_team_id  home_pitcher_era  \\\n",
      "0      718698           158           121              7.20   \n",
      "72     718703           119           115              3.00   \n",
      "73     718704           120           139              6.00   \n",
      "74     718701           146           142              0.00   \n",
      "77     717821           116           109              5.23   \n",
      "...       ...           ...           ...               ...   \n",
      "2094   748577           143           146              3.61   \n",
      "2095   748580           139           140              3.50   \n",
      "2096   748583           142           141              2.79   \n",
      "2097   748578           158           109              3.86   \n",
      "2098   748575           143           146              4.46   \n",
      "\n",
      "      home_pitcher_win_percentage  home_pitcher_wins  home_pitcher_losses  \\\n",
      "0                           0.000                0.0                  1.0   \n",
      "72                          1.000                1.0                  0.0   \n",
      "73                          0.000                0.0                  1.0   \n",
      "74                          1.000                1.0                  0.0   \n",
      "77                          0.429                3.0                  4.0   \n",
      "...                           ...                ...                  ...   \n",
      "2094                        0.684               13.0                  6.0   \n",
      "2095                        0.667               16.0                  8.0   \n",
      "2096                        0.500                8.0                  8.0   \n",
      "2097                        0.545               12.0                 10.0   \n",
      "2098                        0.571               12.0                  9.0   \n",
      "\n",
      "      home_pitcher_innings_pitched  away_pitcher_era  \\\n",
      "0                              5.0              1.80   \n",
      "72                             6.0              3.00   \n",
      "73                             3.0              0.00   \n",
      "74                             5.6              0.00   \n",
      "77                            53.3              5.40   \n",
      "...                            ...               ...   \n",
      "2094                         192.0              3.63   \n",
      "2095                         177.6              3.63   \n",
      "2096                         184.0              3.65   \n",
      "2097                         165.6              3.47   \n",
      "2098                         193.6              3.66   \n",
      "\n",
      "      away_pitcher_win_percentage  ...  home_pitcher_bb_nine  \\\n",
      "0                           0.000  ...                  5.40   \n",
      "72                          1.000  ...                  0.00   \n",
      "73                          1.000  ...                  9.00   \n",
      "74                          1.000  ...                  6.35   \n",
      "77                          0.400  ...                  3.71   \n",
      "...                           ...  ...                   ...   \n",
      "2094                        0.526  ...                  1.83   \n",
      "2095                        0.706  ...                  1.22   \n",
      "2096                        0.478  ...                  2.69   \n",
      "2097                        0.654  ...                  2.93   \n",
      "2098                        0.563  ...                  2.09   \n",
      "\n",
      "      home_pitcher_k_bb_diff  home_pitcher_whip  home_pitcher_babip  \\\n",
      "0                   0.000000               1.40            0.250000   \n",
      "72                  0.285714               0.67            0.285714   \n",
      "73                  0.000000               3.33            0.500000   \n",
      "74                  0.047619               1.06            0.166667   \n",
      "77                  0.134199               1.33            0.285714   \n",
      "...                      ...                ...                 ...   \n",
      "2094                0.219822               1.08            0.291913   \n",
      "2095                0.230441               1.02            0.296375   \n",
      "2096                0.169761               1.15            0.295409   \n",
      "2097                0.229412               1.12            0.274869   \n",
      "2098                0.197982               1.15            0.285714   \n",
      "\n",
      "      away_pitcher_k_nine  away_pitcher_bb_nine  away_pitcher_k_bb_diff  \\\n",
      "0                    9.00                  1.80                0.181818   \n",
      "72                   7.50                  0.00                0.208333   \n",
      "73                   9.00                  1.50                0.227273   \n",
      "74                  13.50                  5.06                0.238095   \n",
      "77                   5.40                  3.21                0.056391   \n",
      "...                   ...                   ...                     ...   \n",
      "2094                10.48                  2.77                0.206478   \n",
      "2095                 8.25                  2.94                0.147314   \n",
      "2096                 8.73                  2.47                0.168798   \n",
      "2097                 9.43                  2.01                0.204492   \n",
      "2098                 8.79                  1.63                0.192716   \n",
      "\n",
      "      away_pitcher_whip  away_pitcher_babip  predicted_winner  \n",
      "0                  1.80            0.466667               1.0  \n",
      "72                 0.83            0.294118               1.0  \n",
      "73                 0.83            0.266667               0.0  \n",
      "74                 0.94            0.222222               1.0  \n",
      "77                 1.49            0.314721               1.0  \n",
      "...                 ...                 ...               ...  \n",
      "2094               1.22            0.314031               1.0  \n",
      "2095               1.14            0.271277               1.0  \n",
      "2096               1.19            0.290196               1.0  \n",
      "2097               1.12            0.300725               1.0  \n",
      "2098               1.15            0.302483               1.0  \n",
      "\n",
      "[1298 rows x 25 columns]>\n"
     ]
    }
   ],
   "source": [
    "df = df.dropna()\n",
    "\n",
    "print(df.head)"
   ]
  },
  {
   "cell_type": "code",
   "execution_count": 18,
   "metadata": {},
   "outputs": [
    {
     "data": {
      "text/plain": [
       "Index(['game_id', 'home_team_id', 'away_team_id', 'home_pitcher_era',\n",
       "       'home_pitcher_win_percentage', 'home_pitcher_wins',\n",
       "       'home_pitcher_losses', 'home_pitcher_innings_pitched',\n",
       "       'away_pitcher_era', 'away_pitcher_win_percentage', 'away_pitcher_wins',\n",
       "       'away_pitcher_losses', 'away_pitcher_innings_pitched', 'winning_team',\n",
       "       'home_pitcher_k_nine', 'home_pitcher_bb_nine', 'home_pitcher_k_bb_diff',\n",
       "       'home_pitcher_whip', 'home_pitcher_babip', 'away_pitcher_k_nine',\n",
       "       'away_pitcher_bb_nine', 'away_pitcher_k_bb_diff', 'away_pitcher_whip',\n",
       "       'away_pitcher_babip', 'predicted_winner'],\n",
       "      dtype='object')"
      ]
     },
     "execution_count": 18,
     "metadata": {},
     "output_type": "execute_result"
    }
   ],
   "source": [
    "df.columns"
   ]
  },
  {
   "cell_type": "code",
   "execution_count": 19,
   "metadata": {},
   "outputs": [],
   "source": [
    "X = []\n",
    "Y = []\n",
    "\n",
    "for index, row in df.iterrows():\n",
    "    pitcher_innings_pitched_comp = row['away_pitcher_innings_pitched'] - row['home_pitcher_innings_pitched']\n",
    "    pitcher_k_nine_comp = row['away_pitcher_k_nine'] - row['home_pitcher_k_nine']\n",
    "    pitcher_bb_nine_comp = row['away_pitcher_bb_nine'] - row['home_pitcher_bb_nine']\n",
    "    pitcher_k_bb_diff_comp = row['away_pitcher_k_bb_diff'] - row['home_pitcher_k_bb_diff']\n",
    "    pitcher_whip_comp = row['away_pitcher_whip'] - row['home_pitcher_whip']\n",
    "    pitcher_babip_comp = row['away_pitcher_babip'] - row['home_pitcher_babip']\n",
    "\n",
    "    comparison = [pitcher_innings_pitched_comp, pitcher_k_nine_comp, pitcher_bb_nine_comp, pitcher_k_bb_diff_comp, pitcher_whip_comp, pitcher_babip_comp]\n",
    "\n",
    "    X.append(comparison)\n",
    "    Y.append(1 if row['winning_team'] == row['home_team_id'] else 0)\n"
   ]
  },
  {
   "cell_type": "code",
   "execution_count": 20,
   "metadata": {},
   "outputs": [],
   "source": [
    "# Convert the lists to NumPy arrays for compatibility with scikit-learn\n",
    "X = pd.np.array(X)\n",
    "Y = pd.np.array(Y)\n",
    "X = X.reshape(X.shape[0], -1)"
   ]
  },
  {
   "cell_type": "code",
   "execution_count": 21,
   "metadata": {},
   "outputs": [
    {
     "name": "stdout",
     "output_type": "stream",
     "text": [
      "X_train shape: (1038, 6)\n",
      "X_test shape: (260, 6)\n",
      "Y_train shape: (1038,)\n",
      "Y_test shape: (260,)\n"
     ]
    }
   ],
   "source": [
    "X_train, X_test, Y_train, Y_test = train_test_split(X, Y, test_size=0.2, random_state=42)\n",
    "\n",
    "# Print the shape of the training and testing sets\n",
    "print(\"X_train shape:\", X_train.shape)\n",
    "print(\"X_test shape:\", X_test.shape)\n",
    "print(\"Y_train shape:\", Y_train.shape)\n",
    "print(\"Y_test shape:\", Y_test.shape)"
   ]
  },
  {
   "cell_type": "code",
   "execution_count": 22,
   "metadata": {},
   "outputs": [
    {
     "data": {
      "text/html": [
       "<style>#sk-container-id-1 {color: black;background-color: white;}#sk-container-id-1 pre{padding: 0;}#sk-container-id-1 div.sk-toggleable {background-color: white;}#sk-container-id-1 label.sk-toggleable__label {cursor: pointer;display: block;width: 100%;margin-bottom: 0;padding: 0.3em;box-sizing: border-box;text-align: center;}#sk-container-id-1 label.sk-toggleable__label-arrow:before {content: \"▸\";float: left;margin-right: 0.25em;color: #696969;}#sk-container-id-1 label.sk-toggleable__label-arrow:hover:before {color: black;}#sk-container-id-1 div.sk-estimator:hover label.sk-toggleable__label-arrow:before {color: black;}#sk-container-id-1 div.sk-toggleable__content {max-height: 0;max-width: 0;overflow: hidden;text-align: left;background-color: #f0f8ff;}#sk-container-id-1 div.sk-toggleable__content pre {margin: 0.2em;color: black;border-radius: 0.25em;background-color: #f0f8ff;}#sk-container-id-1 input.sk-toggleable__control:checked~div.sk-toggleable__content {max-height: 200px;max-width: 100%;overflow: auto;}#sk-container-id-1 input.sk-toggleable__control:checked~label.sk-toggleable__label-arrow:before {content: \"▾\";}#sk-container-id-1 div.sk-estimator input.sk-toggleable__control:checked~label.sk-toggleable__label {background-color: #d4ebff;}#sk-container-id-1 div.sk-label input.sk-toggleable__control:checked~label.sk-toggleable__label {background-color: #d4ebff;}#sk-container-id-1 input.sk-hidden--visually {border: 0;clip: rect(1px 1px 1px 1px);clip: rect(1px, 1px, 1px, 1px);height: 1px;margin: -1px;overflow: hidden;padding: 0;position: absolute;width: 1px;}#sk-container-id-1 div.sk-estimator {font-family: monospace;background-color: #f0f8ff;border: 1px dotted black;border-radius: 0.25em;box-sizing: border-box;margin-bottom: 0.5em;}#sk-container-id-1 div.sk-estimator:hover {background-color: #d4ebff;}#sk-container-id-1 div.sk-parallel-item::after {content: \"\";width: 100%;border-bottom: 1px solid gray;flex-grow: 1;}#sk-container-id-1 div.sk-label:hover label.sk-toggleable__label {background-color: #d4ebff;}#sk-container-id-1 div.sk-serial::before {content: \"\";position: absolute;border-left: 1px solid gray;box-sizing: border-box;top: 0;bottom: 0;left: 50%;z-index: 0;}#sk-container-id-1 div.sk-serial {display: flex;flex-direction: column;align-items: center;background-color: white;padding-right: 0.2em;padding-left: 0.2em;position: relative;}#sk-container-id-1 div.sk-item {position: relative;z-index: 1;}#sk-container-id-1 div.sk-parallel {display: flex;align-items: stretch;justify-content: center;background-color: white;position: relative;}#sk-container-id-1 div.sk-item::before, #sk-container-id-1 div.sk-parallel-item::before {content: \"\";position: absolute;border-left: 1px solid gray;box-sizing: border-box;top: 0;bottom: 0;left: 50%;z-index: -1;}#sk-container-id-1 div.sk-parallel-item {display: flex;flex-direction: column;z-index: 1;position: relative;background-color: white;}#sk-container-id-1 div.sk-parallel-item:first-child::after {align-self: flex-end;width: 50%;}#sk-container-id-1 div.sk-parallel-item:last-child::after {align-self: flex-start;width: 50%;}#sk-container-id-1 div.sk-parallel-item:only-child::after {width: 0;}#sk-container-id-1 div.sk-dashed-wrapped {border: 1px dashed gray;margin: 0 0.4em 0.5em 0.4em;box-sizing: border-box;padding-bottom: 0.4em;background-color: white;}#sk-container-id-1 div.sk-label label {font-family: monospace;font-weight: bold;display: inline-block;line-height: 1.2em;}#sk-container-id-1 div.sk-label-container {text-align: center;}#sk-container-id-1 div.sk-container {/* jupyter's `normalize.less` sets `[hidden] { display: none; }` but bootstrap.min.css set `[hidden] { display: none !important; }` so we also need the `!important` here to be able to override the default hidden behavior on the sphinx rendered scikit-learn.org. See: https://github.com/scikit-learn/scikit-learn/issues/21755 */display: inline-block !important;position: relative;}#sk-container-id-1 div.sk-text-repr-fallback {display: none;}</style><div id=\"sk-container-id-1\" class=\"sk-top-container\"><div class=\"sk-text-repr-fallback\"><pre>GaussianNB()</pre><b>In a Jupyter environment, please rerun this cell to show the HTML representation or trust the notebook. <br />On GitHub, the HTML representation is unable to render, please try loading this page with nbviewer.org.</b></div><div class=\"sk-container\" hidden><div class=\"sk-item\"><div class=\"sk-estimator sk-toggleable\"><input class=\"sk-toggleable__control sk-hidden--visually\" id=\"sk-estimator-id-1\" type=\"checkbox\" checked><label for=\"sk-estimator-id-1\" class=\"sk-toggleable__label sk-toggleable__label-arrow\">GaussianNB</label><div class=\"sk-toggleable__content\"><pre>GaussianNB()</pre></div></div></div></div></div>"
      ],
      "text/plain": [
       "GaussianNB()"
      ]
     },
     "execution_count": 22,
     "metadata": {},
     "output_type": "execute_result"
    }
   ],
   "source": [
    "# Create and train the logistic regression model\n",
    "model = GaussianNB()\n",
    "model.fit(X_train, Y_train)"
   ]
  },
  {
   "cell_type": "code",
   "execution_count": 23,
   "metadata": {},
   "outputs": [
    {
     "name": "stdout",
     "output_type": "stream",
     "text": [
      "135 125\n"
     ]
    }
   ],
   "source": [
    "# Make predictions on the training set (you can use a separate test set for predictions)\n",
    "pred = model.predict(X_test)\n",
    "\n",
    "zeroes = 0\n",
    "ones = 0\n",
    "\n",
    "for item in pred:\n",
    "    if item == 0:\n",
    "        zeroes += 1\n",
    "    elif item == 1:\n",
    "        ones += 1\n",
    "\n",
    "print(zeroes, ones)\n"
   ]
  },
  {
   "cell_type": "code",
   "execution_count": 24,
   "metadata": {},
   "outputs": [
    {
     "name": "stdout",
     "output_type": "stream",
     "text": [
      "Accuracy: 0.49615384615384617\n"
     ]
    }
   ],
   "source": [
    "# Evaluate the model's performance (e.g., accuracy, precision, recall)\n",
    "accuracy = model.score(X_test, Y_test)\n",
    "print(\"Accuracy:\", accuracy)"
   ]
  },
  {
   "cell_type": "code",
   "execution_count": 25,
   "metadata": {},
   "outputs": [
    {
     "data": {
      "image/png": "[encoded data removed]",
      "text/plain": [
       "<Figure size 640x480 with 2 Axes>"
      ]
     },
     "metadata": {},
     "output_type": "display_data"
    }
   ],
   "source": [
    "import seaborn as sns\n",
    "import matplotlib.pyplot as plt\n",
    "from sklearn.metrics import confusion_matrix\n",
    "\n",
    "# Create a confusion matrix\n",
    "cm = confusion_matrix(Y_test, pred)\n",
    "\n",
    "# Create a heatmap of the confusion matrix\n",
    "sns.heatmap(cm, annot=True, cmap='Blues', fmt='d')\n",
    "\n",
    "# Add labels, title, and ticks to the plot\n",
    "plt.xlabel('Predicted')\n",
    "plt.ylabel('Actual')\n",
    "plt.title('Confusion Matrix')\n",
    "plt.xticks([0.5, 1.5], ['Loss', 'Win'])\n",
    "plt.plot(1, 1)\n",
    "plt.yticks([0.5, 1.5], ['Loss', 'Win'])\n",
    "\n",
    "# Display the plot\n",
    "plt.show()"
   ]
  },
  {
   "cell_type": "code",
   "execution_count": 26,
   "metadata": {},
   "outputs": [
    {
     "name": "stdout",
     "output_type": "stream",
     "text": [
      "              precision    recall  f1-score   support\n",
      "\n",
      "           0       0.48      0.52      0.50       126\n",
      "           1       0.51      0.48      0.49       134\n",
      "\n",
      "    accuracy                           0.50       260\n",
      "   macro avg       0.50      0.50      0.50       260\n",
      "weighted avg       0.50      0.50      0.50       260\n",
      "\n"
     ]
    }
   ],
   "source": [
    "from sklearn.metrics import classification_report\n",
    "\n",
    "# Generate a classification report\n",
    "classification_rep = classification_report(Y_test, pred)\n",
    "print(classification_rep)"
   ]
  }
 ],
 "metadata": {
  "kernelspec": {
   "display_name": "Python 3",
   "language": "python",
   "name": "python3"
  },
  "language_info": {
   "codemirror_mode": {
    "name": "ipython",
    "version": 3
   },
   "file_extension": ".py",
   "mimetype": "text/x-python",
   "name": "python",
   "nbconvert_exporter": "python",
   "pygments_lexer": "ipython3",
   "version": "3.11.4"
  },
  "orig_nbformat": 4
 },
 "nbformat": 4,
 "nbformat_minor": 2
}
